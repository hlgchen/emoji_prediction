{
 "cells": [
  {
   "cell_type": "code",
   "execution_count": 1,
   "id": "89dd979d-909d-4c66-8c7e-e21012e30363",
   "metadata": {},
   "outputs": [],
   "source": [
    "%load_ext lab_black"
   ]
  },
  {
   "cell_type": "code",
   "execution_count": 2,
   "id": "c67cec17-f14e-40f9-89d9-c889c0339eaa",
   "metadata": {},
   "outputs": [],
   "source": [
    "import pandas as pd\n",
    "import numpy as np\n",
    "import torch\n",
    "\n",
    "from twemoji.twemoji_dataset import TwemojiData, TwemojiBalancedData, TwemojiDataChunks\n",
    "from embert import SimpleSembert, TopKAccuracy\n",
    "from tqdm import tqdm"
   ]
  },
  {
   "cell_type": "code",
   "execution_count": 3,
   "id": "89f7e36b-a00d-48ce-b3f7-3e65c500e990",
   "metadata": {},
   "outputs": [],
   "source": [
    "device = torch.device(\"cuda\" if torch.cuda.is_available() else \"cpu\")\n",
    "\n",
    "TRAIN_IDX = list(range(1711))\n",
    "TEST_IDX = list(range(1810))"
   ]
  },
  {
   "cell_type": "markdown",
   "id": "f730610f-6370-42a6-84ac-5cb7ba0cea65",
   "metadata": {},
   "source": [
    "### load model"
   ]
  },
  {
   "cell_type": "code",
   "execution_count": 4,
   "id": "854b54ea-2b11-42ca-9bac-fcf23c29c29b",
   "metadata": {},
   "outputs": [],
   "source": [
    "def get_model(balanced=False):\n",
    "    model = SimpleSembert(dropout=0.2)\n",
    "    model = model.to(device)\n",
    "    if balanced:\n",
    "        pretrained_path = \"trained_models/balanced_sembert_dropout/balanced_sembert_dropout_chunk106.ckpt\"\n",
    "    else:\n",
    "        pretrained_path = \"trained_models/sembert_dropout/sembert_dropout_chunk77.ckpt\"\n",
    "    model.load_state_dict(torch.load(pretrained_path, map_location=device))\n",
    "    model.eval()\n",
    "    return model"
   ]
  },
  {
   "cell_type": "code",
   "execution_count": 5,
   "id": "81bd4485-9bf4-4c26-9b64-9e08ee738686",
   "metadata": {},
   "outputs": [],
   "source": [
    "%%capture\n",
    "model = get_model()\n",
    "model_balanced = get_model(balanced=True)"
   ]
  },
  {
   "cell_type": "markdown",
   "id": "aa4fdf4a-d362-4e94-b42e-c396856fb51e",
   "metadata": {},
   "source": [
    "### load mapping dicts etc."
   ]
  },
  {
   "cell_type": "code",
   "execution_count": 6,
   "id": "2246958a-e128-45e1-82c2-051f4ae6a910",
   "metadata": {},
   "outputs": [],
   "source": [
    "df_des = pd.read_csv(\"emoji_embedding/data/processed/emoji_descriptions.csv\")\n",
    "emoji_id_char = {k: v for k, v in zip(df_des.emoji_id, df_des.emoji_char)}"
   ]
  },
  {
   "cell_type": "code",
   "execution_count": 7,
   "id": "216435ee-acd5-4e48-a245-ec990457a7ab",
   "metadata": {},
   "outputs": [],
   "source": [
    "TOP_EMOJIS = (\n",
    "    pd.read_csv(\"twemoji/data/twemoji_prevalence.csv\")\n",
    "    .sort_values(by=\"prevalence\", ascending=False)\n",
    "    .emoji_ids.tolist()\n",
    ")"
   ]
  },
  {
   "cell_type": "markdown",
   "id": "75de1572-0792-455a-9144-c97f65644377",
   "metadata": {},
   "source": [
    "### load dataset"
   ]
  },
  {
   "cell_type": "code",
   "execution_count": 8,
   "id": "f439ba5a-6532-4062-bfdc-740f443afe38",
   "metadata": {},
   "outputs": [],
   "source": [
    "data = TwemojiData(\"test_v2\")"
   ]
  },
  {
   "cell_type": "markdown",
   "id": "5271a0c3-9cf5-43b3-9980-301c1e924bf0",
   "metadata": {},
   "source": [
    "### helper functions"
   ]
  },
  {
   "cell_type": "code",
   "execution_count": 19,
   "id": "a9ad9b39-f581-4a82-818a-d2bd7ed3d537",
   "metadata": {},
   "outputs": [],
   "source": [
    "def get_combined_prediction(X, model1, model2, weighting):\n",
    "    predictions = model1(X, TEST_IDX)\n",
    "    _, p_emoji_ids1 = torch.topk(predictions, weighting[0], dim=-1)\n",
    "\n",
    "    predictions_restricted = model2(X, TEST_IDX)\n",
    "    _, p_emoji_ids2 = torch.topk(predictions_restricted, weighting[1], dim=-1)\n",
    "\n",
    "    combined_predictions = torch.cat([p_emoji_ids1, p_emoji_ids2], dim=1)\n",
    "    return combined_predictions\n",
    "\n",
    "\n",
    "def get_accuracy(p_emoji_ids, t_emoji_ids):\n",
    "    accuracy = 0\n",
    "    for i in range(len(p_emoji_ids)):\n",
    "        y = set(t_emoji_ids[i])\n",
    "        predicted_emojis = set(p_emoji_ids[i].tolist())\n",
    "        accuracy += (1 / len(p_emoji_ids)) * (len(predicted_emojis.intersection(y)) > 0)\n",
    "    return accuracy"
   ]
  },
  {
   "cell_type": "code",
   "execution_count": 20,
   "id": "934ccf4d-5fa1-49a4-bd36-12be1ac10ff5",
   "metadata": {},
   "outputs": [],
   "source": [
    "X, y = data[:32]"
   ]
  },
  {
   "cell_type": "code",
   "execution_count": 21,
   "id": "489ac4d1-ae4a-47c3-a747-a7ebb286e203",
   "metadata": {},
   "outputs": [
    {
     "data": {
      "text/plain": [
       "0.6875"
      ]
     },
     "execution_count": 21,
     "metadata": {},
     "output_type": "execute_result"
    }
   ],
   "source": [
    "pred = get_combined_prediction(X, model, model_balanced, [7, 3])\n",
    "get_accuracy(pred, y)"
   ]
  },
  {
   "cell_type": "code",
   "execution_count": null,
   "id": "158571e3-e7ef-412b-b7a6-4363e68db563",
   "metadata": {},
   "outputs": [],
   "source": []
  }
 ],
 "metadata": {
  "kernelspec": {
   "display_name": "Python 3 (ipykernel)",
   "language": "python",
   "name": "python3"
  },
  "language_info": {
   "codemirror_mode": {
    "name": "ipython",
    "version": 3
   },
   "file_extension": ".py",
   "mimetype": "text/x-python",
   "name": "python",
   "nbconvert_exporter": "python",
   "pygments_lexer": "ipython3",
   "version": "3.8.12"
  }
 },
 "nbformat": 4,
 "nbformat_minor": 5
}
