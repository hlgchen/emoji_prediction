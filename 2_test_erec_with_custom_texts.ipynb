{
 "cells": [
  {
   "cell_type": "code",
   "execution_count": 1,
   "id": "dab2ea56-6c85-476b-a667-df8937cdf3d3",
   "metadata": {},
   "outputs": [],
   "source": [
    "import pandas as pd\n",
    "from recommender import EREC"
   ]
  },
  {
   "cell_type": "code",
   "execution_count": 2,
   "id": "42b1f2d6-11fc-4cb0-ab89-8d7d319fe896",
   "metadata": {},
   "outputs": [],
   "source": [
    "df_des = pd.read_csv(\"emoji_embedding/data/processed/emoji_descriptions.csv\", usecols=[\"emoji_id\", \"emoji_char\"])\n",
    "mapping_dict = {k:v for k, v in zip(df_des.emoji_id, df_des.emoji_char)}"
   ]
  },
  {
   "cell_type": "code",
   "execution_count": 3,
   "id": "dc4c7bba-5d0a-4765-a4b1-7f8c58208afa",
   "metadata": {},
   "outputs": [
    {
     "data": {
      "application/vnd.jupyter.widget-view+json": {
       "model_id": "7297ee04330b4bf9b3e19c860bff0830",
       "version_major": 2,
       "version_minor": 0
      },
      "text/plain": [
       "HBox(children=(HTML(value='Batches'), FloatProgress(value=0.0, max=57.0), HTML(value='')))"
      ]
     },
     "metadata": {},
     "output_type": "display_data"
    },
    {
     "name": "stdout",
     "output_type": "stream",
     "text": [
      "\n"
     ]
    }
   ],
   "source": [
    "m = EREC(mapping_dict)"
   ]
  },
  {
   "cell_type": "code",
   "execution_count": 49,
   "id": "10b9ce8b-ffe8-493f-8c27-142a29e67b88",
   "metadata": {},
   "outputs": [],
   "source": [
    "sentences = [\n",
    "    \"i like dinosaurs!\",\n",
    "    \"i like sauropod!\",\n",
    "    \"crocodiles are so awesome.\",\n",
    "    \"came back home and saw an elephant\",\n",
    "    \"i hate it when people don't text back\",\n",
    "    \"war is bad we need peace\",\n",
    "    \"second place medal looks good\",\n",
    "    \"this football game is lit\",\n",
    "    \"I am so angryyy\",\n",
    "    \"swinging an axe\",\n",
    "    \"I am a baby\",\n",
    "    \"crocodile, crocodile, crocodile\",\n",
    "    \"crocodile\",\n",
    "    \"turtle\",\n",
    "    \"I like turtles\",\n",
    "    \"I am the dragon master\",\n",
    "    \"blue whales are my favorite animals\",\n",
    "    \"penis\",\n",
    "    \"shake that ass\",\n",
    "    \"shake that booty\",\n",
    "    \"idiot\",\n",
    "    \"do you want to come over tonight?\",\n",
    "    \"it's getting a littly cold\",\n",
    "    # \"he is hitting one after another basket\",\n",
    "    \"this course is poop, i don't want to do this anymore\"\n",
    "]"
   ]
  },
  {
   "cell_type": "code",
   "execution_count": 50,
   "id": "d3479759-c79d-4283-a22a-814c1e8a1d20",
   "metadata": {},
   "outputs": [],
   "source": [
    "m.l_threshold = 0.3"
   ]
  },
  {
   "cell_type": "code",
   "execution_count": 52,
   "id": "503a250d-9401-43f7-a105-3792a72cd145",
   "metadata": {},
   "outputs": [
    {
     "name": "stdout",
     "output_type": "stream",
     "text": [
      "i like dinosaurs! ### ['🐲', '🐉', '👽'] ### ['🦖', '🦕']\n",
      "i like sauropod! ### ['😍', '😊', '😂'] ### ['🦕', '🐙']\n",
      "crocodiles are so awesome. ### ['😍', '🐢', '😭'] ### ['🐊', '🦘']\n",
      "came back home and saw an elephant ### ['🐘', '😭', '🐼'] ### ['🐘', '\\U0001f9a3']\n",
      "i hate it when people don't text back ### ['🙄', '😒', '😑'] ### ['🔙']\n",
      "war is bad we need peace ### ['😔', '😞', '🌏'] ### ['☮️']\n",
      "second place medal looks good ### ['👌', '🏊', '🚴'] ### ['🥈', '🥇']\n",
      "this football game is lit ### ['🔥', '🏈', '🤘'] ### ['🏈', '🔥']\n",
      "I am so angryyy ### ['😤', '😠', '🙄'] ### ['😠', '😡']\n",
      "swinging an axe ### ['⛏️', '🔫', '✂️'] ### ['🪓', '🔨']\n",
      "I am a baby ### ['👶', '👩\\u200d🍼', '🍼'] ### ['🍼', '👶']\n",
      "crocodile, crocodile, crocodile ### ['🐊', '🐬', '🐳'] ### ['🐊', '🦎']\n",
      "crocodile ### ['🛃', '🐢', '〰️'] ### ['🐊', '🦎']\n",
      "turtle ### ['🐢', '🐸', '🐍'] ### ['🐢', '🐍']\n",
      "I like turtles ### ['🐢', '🐸', '🤔'] ### ['🐢', '🦎']\n",
      "I am the dragon master ### ['🐲', '🐉', '👑'] ### ['🐉', '🐲']\n",
      "blue whales are my favorite animals ### ['🐋', '🐳', '🐬'] ### ['🐋', '🐬']\n",
      "penis ### ['😍', '💔', '😂'] ### ['🖊️', '🍆']\n",
      "shake that ass ### ['😂', '😏', '😛'] ### ['✊']\n",
      "shake that booty ### ['🍑', '👅', '😏'] ### ['👢', '🤝']\n",
      "idiot ### ['😂', '🙄', '🖕'] ### []\n",
      "do you want to come over tonight? ### ['😊', '😋', '😛'] ### []\n",
      "it's getting a littly cold ### ['😞', '😒', '😖'] ### ['🥶', '🧊']\n",
      "this course is poop, i don't want to do this anymore ### ['😭', '💩', '😂'] ### []\n"
     ]
    }
   ],
   "source": [
    "recs_e, recs_l = m(sentences)\n",
    "for i, s in enumerate(sentences): \n",
    "    print(f\"{s} ### {recs_e[i][:3]} ### {recs_l[i][:2]}\")"
   ]
  },
  {
   "cell_type": "code",
   "execution_count": 46,
   "id": "cc91f803-ce93-4931-a5df-f50a8c77dcd1",
   "metadata": {},
   "outputs": [],
   "source": [
    "sentences = [\n",
    "    \"hey guys how you doing\",\n",
    "    \"i hope your exams are going well\",\n",
    "    \"The current solution in our project is a little bit hacky.\",\n",
    "    \"It is more an engineering solution than a scientific one.\",\n",
    "    \"I still feel like this gives better emoji predictions.\",\n",
    "    \"I'll probabbly wrap up work tomorrow.\",\n",
    "    \"The model constists of two parts.\", \n",
    "    \"The first model part is trained on the data and is better in predicting emotions and understanding the sentence.\", \n",
    "    \"The second model is suppossed to pick up certain keywords that have emojis representing them.\"\n",
    "    \"If I say I like crocodiles, then that is not true.\", \n",
    "    \"penis\",\n",
    "    \"blue whales are such beautiful animals!\", \n",
    "    \"to make this badass pizza, add some extra sauce\", \n",
    "    \"what do you think of the predictions??\"\n",
    "]"
   ]
  },
  {
   "cell_type": "code",
   "execution_count": 47,
   "id": "10b607be-9ea0-4613-8a32-7a1f98ad9d2f",
   "metadata": {},
   "outputs": [
    {
     "name": "stdout",
     "output_type": "stream",
     "text": [
      "hey guys how you doing ### ['😊', '😇', '👋', '🤗', '🙂', '😎', '😄'] ### []\n",
      "i hope your exams are going well ### ['😊', '😌', '💕', '🙏', '✨', '😘', '🙂'] ### []\n",
      "The current solution in our project is a little bit hacky. ### ['🤔', '😂', '😉', '😅', '😏', '🙃', '😊'] ### []\n",
      "It is more an engineering solution than a scientific one. ### ['🔬', '🚡', '😂', '😒', '🚜', '🙄', '👷'] ### ['🧑\\u200d🔬']\n",
      "I still feel like this gives better emoji predictions. ### ['🤔', '📉', '😂', '🙄', '😏', '👀', '😉'] ### ['🔑', '👦', '👧']\n",
      "I'll probabbly wrap up work tomorrow. ### ['🙃', '🙄', '😅', '😴', '😪', '😒', '😂'] ### []\n",
      "The model constists of two parts. ### ['😍', '😂', '👌', '😭', '👀', '😊', '💼'] ### ['🦵']\n",
      "The first model part is trained on the data and is better in predicting emotions and understanding the sentence. ### ['📝', '👍', '😊', '📑', '😂', '📄', '👌'] ### ['🚆', '😠', '😨']\n",
      "The second model is suppossed to pick up certain keywords that have emojis representing them.If I say I like crocodiles, then that is not true. ### ['🐊', '🐍', '🐸', '😂', '🐬', '🐢', '🤔'] ### ['🐊', '🔑', '🐒']\n",
      "penis ### ['😍', '💔', '😂', '👀', '🙄', '💕', '💘'] ### ['🖊️', '🍆', '🚹']\n",
      "blue whales are such beautiful animals! ### ['🐋', '😍', '🐳', '🐬', '💙', '😭', '🌊'] ### ['🐋', '🐬', '🔵']\n",
      "to make this badass pizza, add some extra sauce ### ['🍕', '😋', '🌮', '🤔', '🍟', '🔥', '🍽️'] ### ['🍕', '🍝', '🍅']\n",
      "what do you think of the predictions?? ### ['🤔', '👀', '💭', '💫', '😂', '🌟', '😊'] ### []\n"
     ]
    }
   ],
   "source": [
    "recs_e, recs_l = m(sentences)\n",
    "for i, s in enumerate(sentences): \n",
    "    print(f\"{s} ### {recs_e[i][:7]} ### {recs_l[i][:3]}\")"
   ]
  },
  {
   "cell_type": "code",
   "execution_count": 57,
   "id": "a3d62820-91e3-45db-966f-c2ae1ab97b87",
   "metadata": {},
   "outputs": [],
   "source": [
    "a = [1,2 ,3 ]"
   ]
  },
  {
   "cell_type": "code",
   "execution_count": 58,
   "id": "3a70f352-0485-4b48-bc5c-814347b3d973",
   "metadata": {},
   "outputs": [
    {
     "data": {
      "text/plain": [
       "3"
      ]
     },
     "execution_count": 58,
     "metadata": {},
     "output_type": "execute_result"
    }
   ],
   "source": [
    "a.pop()"
   ]
  },
  {
   "cell_type": "code",
   "execution_count": 56,
   "id": "223bb15a-ea52-479c-a202-c6c688b92a14",
   "metadata": {},
   "outputs": [
    {
     "data": {
      "text/plain": [
       "[]"
      ]
     },
     "execution_count": 56,
     "metadata": {},
     "output_type": "execute_result"
    }
   ],
   "source": [
    "a.copy()"
   ]
  },
  {
   "cell_type": "code",
   "execution_count": null,
   "id": "1fc5dd18-395c-4b8c-9a66-3baedc09bf5a",
   "metadata": {},
   "outputs": [],
   "source": []
  }
 ],
 "metadata": {
  "kernelspec": {
   "display_name": "Python 3 (ipykernel)",
   "language": "python",
   "name": "python3"
  },
  "language_info": {
   "codemirror_mode": {
    "name": "ipython",
    "version": 3
   },
   "file_extension": ".py",
   "mimetype": "text/x-python",
   "name": "python",
   "nbconvert_exporter": "python",
   "pygments_lexer": "ipython3",
   "version": "3.8.12"
  }
 },
 "nbformat": 4,
 "nbformat_minor": 5
}
