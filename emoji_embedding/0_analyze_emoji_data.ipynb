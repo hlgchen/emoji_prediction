{
 "cells": [
  {
   "cell_type": "markdown",
   "id": "0adfe1e9-e23c-4af6-8134-f3691bbb4267",
   "metadata": {},
   "source": [
    "This notebook preprocesses the scraped data from emojipedia.org and hotemoji.com. "
   ]
  },
  {
   "cell_type": "code",
   "execution_count": null,
   "id": "bbf243f7-c35b-4f0b-ab3f-ddfa5efcaa47",
   "metadata": {},
   "outputs": [],
   "source": [
    "%load_ext lab_black"
   ]
  },
  {
   "cell_type": "code",
   "execution_count": null,
   "id": "9d65f09d-04df-454d-9d6f-e7b7ae0e1fa2",
   "metadata": {},
   "outputs": [],
   "source": [
    "import json\n",
    "import pandas as pd\n",
    "import os\n",
    "\n",
    "import random"
   ]
  },
  {
   "cell_type": "code",
   "execution_count": null,
   "id": "dbd2b073-f7f6-43ea-88bf-522eb3d4e951",
   "metadata": {},
   "outputs": [],
   "source": [
    "pd.set_option(\"display.max_rows\", 500)\n",
    "pd.set_option(\"display.max_columns\", 500)\n",
    "pd.set_option(\"display.width\", 1000)\n",
    "pd.set_option(\"display.max_colwidth\", 200)"
   ]
  },
  {
   "cell_type": "markdown",
   "id": "22c77a2d-d360-467f-8260-bce7b71c599e",
   "metadata": {},
   "source": [
    "### process hotemoji descriptions"
   ]
  },
  {
   "cell_type": "code",
   "execution_count": null,
   "id": "3ea33bbb-32b2-418b-987a-4fcf4bd4a845",
   "metadata": {},
   "outputs": [],
   "source": [
    "hemj_df = (\n",
    "    pd.read_csv(\"data/hotemoji_description_raw.csv\")\n",
    "    .dropna(subset=\"emoji_char\")\n",
    "    .rename(\n",
    "        columns={\n",
    "            \"emoji_char\": \"emoji_char_bytes\",\n",
    "            \"emoji_name\": \"hemj_emoji_name_og\",\n",
    "            \"emoji_description\": \"hemj_emoji_description\",\n",
    "        }\n",
    "    )\n",
    ")"
   ]
  },
  {
   "cell_type": "code",
   "execution_count": null,
   "id": "dd37ef87-16d7-42e5-95c6-15efd6a81647",
   "metadata": {},
   "outputs": [],
   "source": [
    "hemj_df[\"emoji_char\"] = hemj_df.emoji_char_bytes.apply(\n",
    "    lambda x: x.encode(\"latin-1\").decode(\n",
    "        \"utf-8\"\n",
    "    )  # data was scrapped as a byte representation string\n",
    ")\n",
    "hemj_df[\"emoji_char_ascii\"] = hemj_df.emoji_char.apply(\n",
    "    lambda x: x.encode(\"unicode-escape\").decode(\"ASCII\")\n",
    ")\n",
    "\n",
    "hemj_df[\"hemj_emoji_name\"] = hemj_df.hemj_emoji_name_og.str.lower().str.replace(\n",
    "    \" \", \"_\"\n",
    ")"
   ]
  },
  {
   "cell_type": "code",
   "execution_count": null,
   "id": "584d0b4c-e2d8-47e6-95bf-0fe77006cf5f",
   "metadata": {},
   "outputs": [],
   "source": [
    "def decode(description):\n",
    "    try:  # data was scrapped as a byte representation string, need to convert to utf-8\n",
    "        description = description.encode(\"latin-1\").decode(\"utf-8\")\n",
    "        if \"📑\" in description:\n",
    "            description = description.split(\"📑\")[0]\n",
    "        return description\n",
    "    except:\n",
    "        return description"
   ]
  },
  {
   "cell_type": "code",
   "execution_count": null,
   "id": "f1927328-8d32-4724-bd41-775a39839d07",
   "metadata": {},
   "outputs": [],
   "source": [
    "hemj_df.hemj_emoji_description = hemj_df.hemj_emoji_description.apply(decode)"
   ]
  },
  {
   "cell_type": "code",
   "execution_count": null,
   "id": "0b2ea0a1-7b04-41fe-b389-432d8a24bb16",
   "metadata": {},
   "outputs": [],
   "source": [
    "hemj_df.to_csv(\"data/processed/hotemoji.csv\", index=False)"
   ]
  },
  {
   "cell_type": "markdown",
   "id": "6c7a8f7c-0a18-41c9-8214-316a3ecdfb60",
   "metadata": {},
   "source": [
    "### load emojipedia data"
   ]
  },
  {
   "cell_type": "code",
   "execution_count": null,
   "id": "b736cfcb-f014-40a8-8556-67ea17b9749b",
   "metadata": {},
   "outputs": [],
   "source": [
    "emjpd_dict = dict()"
   ]
  },
  {
   "cell_type": "code",
   "execution_count": null,
   "id": "46f6cb48-114e-470e-ac4a-060c3d42a235",
   "metadata": {},
   "outputs": [],
   "source": [
    "for path, subdirs, _ in os.walk(\"data/emojipedia/\"):\n",
    "    for sub in subdirs:\n",
    "        for f in os.listdir(os.path.join(path, sub)):\n",
    "            if f[-4:] == \"json\":\n",
    "                with open(os.path.join(path, sub, f), \"r\") as f:\n",
    "                    emjpd_dict[sub] = json.load(f)"
   ]
  },
  {
   "cell_type": "markdown",
   "id": "0f2efb5e-883e-4c44-8016-a4b77f4b0bcb",
   "metadata": {},
   "source": [
    "#### create summarized data"
   ]
  },
  {
   "cell_type": "code",
   "execution_count": null,
   "id": "6455a8b1-ca7d-471f-8fce-13bc8eead276",
   "metadata": {},
   "outputs": [],
   "source": [
    "df = pd.DataFrame()\n",
    "df[\"emoji_char\"] = [v[\"emoji_char\"] for v in emjpd_dict.values()]\n",
    "df[\"emoji_char_ascii\"] = df.emoji_char.apply(\n",
    "    lambda x: x.encode(\"unicode-escape\").decode(\"ASCII\")\n",
    ")\n",
    "df[\"emjpd_emoji_name\"] = emjpd_dict.keys()\n",
    "df[\"emjpd_emoji_name_og\"] = [v[\"emoji\"] for v in emjpd_dict.values()]\n",
    "df[\"emjpd_aliases\"] = [v[\"aliases\"] for v in emjpd_dict.values()]\n",
    "df[\"emjpd_full_description\"] = [v[\"description\"] for v in emjpd_dict.values()]\n",
    "df.emjpd_full_description = df.emjpd_full_description.str.replace(\n",
    "    u\"\\xa0\", u\" \"\n",
    ")  # remove nonbreaking space\n",
    "df[\"emjpd_shortcodes\"] = [v.get(\"shortcodes\", []) for v in emjpd_dict.values()]"
   ]
  },
  {
   "cell_type": "code",
   "execution_count": null,
   "id": "ced1f756-a2f1-4c6b-8344-281c89375e2a",
   "metadata": {},
   "outputs": [],
   "source": [
    "emoji_set = set(df.emoji_char.tolist())\n",
    "\n",
    "\n",
    "def get_reference_emojis(description):\n",
    "    \"\"\"Function that is used in pandas apply for each row.\n",
    "    Returns list of emojis that are referenced in a description.\"\"\"\n",
    "    return [ref for ref in emoji_set if ref in description]\n",
    "\n",
    "\n",
    "def get_usage(description):\n",
    "    \"\"\"Function that is used in pandas apply for each row.\n",
    "    Returns string with sentences that contain \"used\" but not \"used by/to\" \"\"\"\n",
    "    result = \"\\n\".join(\n",
    "        [\n",
    "            line\n",
    "            for line in description.split(\"\\n\")\n",
    "            if (\"used\" in line) & (\"used by\" not in line) & (\"used to\" not in line)\n",
    "        ]\n",
    "    )\n",
    "    if len(result) > 0:\n",
    "        return result\n",
    "    else:\n",
    "        return None\n",
    "\n",
    "\n",
    "def split_description(description):\n",
    "    \"\"\"Function that is used in pandas apply for each row.\n",
    "    Splits description into main and meta information part.\n",
    "    The \"side_text\" contains information such as introduction year of emoji\"\"\"\n",
    "    description_ls = description.split(\"\\n\")\n",
    "    empty_counter = 0\n",
    "    for i, t in enumerate(description_ls[::-1]):\n",
    "        if t == \"\":\n",
    "            empty_counter += 1\n",
    "        if empty_counter == 2:\n",
    "            break\n",
    "    main_text = \"\\n\".join([t for t in description_ls[:-i] if t != \"\"])\n",
    "    side_text = \"\\n\".join([t for t in description_ls[-i:] if t != \"\"])\n",
    "    return pd.Series([main_text, side_text])"
   ]
  },
  {
   "cell_type": "code",
   "execution_count": null,
   "id": "8dbefd08-79d2-46f4-b483-4a477febad40",
   "metadata": {},
   "outputs": [],
   "source": [
    "df[\"emjpd_description_ref_emj\"] = df.emjpd_full_description.apply(get_reference_emojis)\n",
    "df[\"emjpd_usage_info\"] = df.emjpd_full_description.apply(get_usage)\n",
    "df[\n",
    "    [\"emjpd_description_main\", \"emjpd_description_side\"]\n",
    "] = df.emjpd_full_description.apply(split_description)"
   ]
  },
  {
   "cell_type": "code",
   "execution_count": null,
   "id": "04044b2d-af14-4a68-969d-b2c6040c3373",
   "metadata": {},
   "outputs": [],
   "source": [
    "df.to_csv(\"data/processed/emojipedia.csv\", index=False)"
   ]
  },
  {
   "cell_type": "markdown",
   "id": "eecd0e09-f4ad-4e68-a9f0-c5a5ed78a9b0",
   "metadata": {},
   "source": [
    "## merge data"
   ]
  },
  {
   "cell_type": "code",
   "execution_count": null,
   "id": "b0512b04-db3a-46e9-bccd-e61b695ff5d8",
   "metadata": {},
   "outputs": [],
   "source": [
    "mdf = df.merge(hemj_df, how=\"outer\", on=[\"emoji_char\", \"emoji_char_ascii\"])"
   ]
  },
  {
   "cell_type": "code",
   "execution_count": null,
   "id": "fab91181-8495-47bd-9908-a2220db4cfff",
   "metadata": {},
   "outputs": [],
   "source": [
    "cols = [\n",
    "    \"emoji_char\",  # emoji-symbol/picture\n",
    "    \"emoji_char_ascii\",  # emoji expressed in ascii\n",
    "    \"emoji_char_bytes\",  # emoji expressed as bytes (only for hotemoji)\n",
    "    \"emjpd_emoji_name\",  # emojipedia emoji name (corresponds to folder in scrapped data)\n",
    "    \"emjpd_emoji_name_og\",  # emojipedia emoji name as is in the heading on website (Capitalized, with space)\n",
    "    \"hemj_emoji_name\",  # hotemoji emoji name (_ instead of spaces, lowercase)\n",
    "    \"hemj_emoji_name_og\",  # hotemoji emoji name (Capitalized, with space)\n",
    "    \"emjpd_aliases\",  # emojipedia aliases for emoji\n",
    "    \"emjpd_shortcodes\",  # emojipedia shortcuts for slack/github etc.\n",
    "    \"emjpd_full_description\",  # emojipedia all description data scraped unprocessed in utf-8\n",
    "    \"emjpd_description_main\",  # emojipedia main description without meta data at bottom\n",
    "    \"emjpd_description_side\",  # emojipedia meta data about emoji (when was the emoji introduced)\n",
    "    \"hemj_emoji_description\",  # hotemoji description scaraped utf-8\n",
    "    \"emjpd_usage_info\",  # emojipedia sentences with how an emoji is used (contains \"used\" but not \"used to/by\")\n",
    "    \"emjpd_description_ref_emj\",  # emojipedia emojis that are referrenced within the description in some way\n",
    "]"
   ]
  },
  {
   "cell_type": "code",
   "execution_count": null,
   "id": "d0ab8ffc-349d-47e4-91bb-738b0dac03b3",
   "metadata": {},
   "outputs": [],
   "source": [
    "mdf = mdf[cols]"
   ]
  },
  {
   "cell_type": "code",
   "execution_count": null,
   "id": "6176949b-deca-4f35-a669-8b5bada5b17c",
   "metadata": {},
   "outputs": [],
   "source": [
    "mdf.to_csv(\"data/processed/emoji_descriptions.csv\", index=False)"
   ]
  }
 ],
 "metadata": {
  "kernelspec": {
   "display_name": "Python 3 (ipykernel)",
   "language": "python",
   "name": "python3"
  },
  "language_info": {
   "codemirror_mode": {
    "name": "ipython",
    "version": 3
   },
   "file_extension": ".py",
   "mimetype": "text/x-python",
   "name": "python",
   "nbconvert_exporter": "python",
   "pygments_lexer": "ipython3",
   "version": "3.8.12"
  }
 },
 "nbformat": 4,
 "nbformat_minor": 5
}
