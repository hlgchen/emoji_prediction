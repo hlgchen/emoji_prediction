{
 "cells": [
  {
   "cell_type": "code",
   "execution_count": null,
   "id": "e91f5db0-2b97-460b-ab09-2a94c1c7e3d4",
   "metadata": {},
   "outputs": [],
   "source": [
    "%load_ext lab_black"
   ]
  },
  {
   "cell_type": "code",
   "execution_count": null,
   "id": "8e20bbe2-338b-415d-ae84-e9db5ee267e5",
   "metadata": {},
   "outputs": [],
   "source": [
    "from transformers import DistilBertTokenizer, DistilBertModel\n",
    "\n",
    "import torch\n",
    "import torch.nn as nn\n",
    "\n",
    "import pandas as pd\n",
    "import ast\n",
    "\n",
    "import time"
   ]
  },
  {
   "cell_type": "markdown",
   "id": "d8c5b640-143e-4e3f-b4c2-32b5cb079a97",
   "metadata": {},
   "source": [
    "### load data"
   ]
  },
  {
   "cell_type": "code",
   "execution_count": null,
   "id": "40c71daa-e716-4035-9811-34402a084aea",
   "metadata": {},
   "outputs": [],
   "source": [
    "df = pd.read_csv(\"data/processed/emoji_descriptions.csv\")\n",
    "df.emjpd_aliases = df.emjpd_aliases.apply(\n",
    "    lambda x: ast.literal_eval(x) if isinstance(x, str) else []\n",
    ")\n",
    "df.emjpd_aliases = df.emjpd_aliases.apply(lambda x: \" \".join(x))"
   ]
  },
  {
   "cell_type": "markdown",
   "id": "189c60da-8829-46c9-adbe-3a0a4344fd36",
   "metadata": {},
   "source": [
    "### load model"
   ]
  },
  {
   "cell_type": "code",
   "execution_count": null,
   "id": "bb1a201e-faed-4b92-91b1-38de7956b0ee",
   "metadata": {},
   "outputs": [],
   "source": [
    "# distilbert is smaller in number of parameters but comparable to performance of bert\n",
    "# maybe using a finetuned version would be better, how could we finetune it>?>\n",
    "base_model_name = \"distilbert-base-uncased\"  # the tokenizer does not know the emojis\n",
    "tokenizer = DistilBertTokenizer.from_pretrained(base_model_name)\n",
    "model = DistilBertModel.from_pretrained(base_model_name)"
   ]
  },
  {
   "cell_type": "markdown",
   "id": "2255c348-b9a0-44d1-8135-773bd5d4a48c",
   "metadata": {},
   "source": [
    "### load data"
   ]
  },
  {
   "cell_type": "code",
   "execution_count": null,
   "id": "013a826b-6360-47eb-b945-2c9cac65c2e0",
   "metadata": {},
   "outputs": [],
   "source": [
    "def get_model_embedding(text_ls):\n",
    "    encoded_input = tokenizer(\n",
    "        text_ls, return_tensors=\"pt\", truncation=True, padding=True\n",
    "    )\n",
    "    with torch.no_grad():\n",
    "        output = model(**encoded_input).last_hidden_state\n",
    "\n",
    "    result_ls = []\n",
    "    for i, l in enumerate(encoded_input.attention_mask.sum(dim=1).tolist()):\n",
    "        result_ls.append(output[i, :l].mean(dim=0))\n",
    "    return result_ls"
   ]
  },
  {
   "cell_type": "code",
   "execution_count": null,
   "id": "74846c51-c007-4ca7-b9d9-3b39498804e1",
   "metadata": {},
   "outputs": [],
   "source": [
    "def get_embeddings(batch_size=100):\n",
    "\n",
    "    filler = \"\\u25A1\" * 3\n",
    "    s = df.emoji_name_og.fillna(\"\") + filler\n",
    "    s += df.emjpd_aliases.fillna(\"\") + filler\n",
    "    s += df.emjpd_description_main.fillna(\"\").str.replace(\"\\n\", filler) + filler\n",
    "    s_ls = s.tolist()\n",
    "\n",
    "    embedding_ls = []\n",
    "\n",
    "    for i in range(batch_size, len(s_ls), batch_size):\n",
    "        start = time.time()\n",
    "        embedding_ls += get_model_embedding(s_ls[i - batch_size : i])\n",
    "        print(f\"processed {i- batch_size} to {i}, took {time.time() - start}\")\n",
    "\n",
    "    embedding_dict = {\n",
    "        k: v for k, v in zip(df.emoji_char.tolist()[: len(embedding_ls)], embedding_ls)\n",
    "    }\n",
    "    return embedding_dict"
   ]
  },
  {
   "cell_type": "code",
   "execution_count": null,
   "id": "7da8fb4f-78bc-4945-a66b-7953afffc895",
   "metadata": {},
   "outputs": [],
   "source": [
    "data = get_embeddings(128)"
   ]
  },
  {
   "cell_type": "code",
   "execution_count": null,
   "id": "0854bafe-69c9-42f0-8347-027e5c99a5ae",
   "metadata": {},
   "outputs": [],
   "source": [
    "torch.save(data, \"data/processed/emojipedia_description_embedding.ckpt\")"
   ]
  },
  {
   "cell_type": "code",
   "execution_count": null,
   "id": "96ad7ff6-14f0-4ca4-beaa-07c36ef94708",
   "metadata": {},
   "outputs": [],
   "source": []
  }
 ],
 "metadata": {
  "kernelspec": {
   "display_name": "Python 3 (ipykernel)",
   "language": "python",
   "name": "python3"
  },
  "language_info": {
   "codemirror_mode": {
    "name": "ipython",
    "version": 3
   },
   "file_extension": ".py",
   "mimetype": "text/x-python",
   "name": "python",
   "nbconvert_exporter": "python",
   "pygments_lexer": "ipython3",
   "version": "3.8.12"
  }
 },
 "nbformat": 4,
 "nbformat_minor": 5
}
