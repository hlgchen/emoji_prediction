{
 "cells": [
  {
   "cell_type": "code",
   "execution_count": null,
   "id": "e91f5db0-2b97-460b-ab09-2a94c1c7e3d4",
   "metadata": {},
   "outputs": [],
   "source": [
    "%load_ext lab_black"
   ]
  },
  {
   "cell_type": "code",
   "execution_count": null,
   "id": "8e20bbe2-338b-415d-ae84-e9db5ee267e5",
   "metadata": {},
   "outputs": [],
   "source": [
    "import torch\n",
    "import torch.nn as nn\n",
    "from cnn import Img2Vec\n",
    "\n",
    "from emoji_images import EmojiClassificationDataset, plot\n",
    "import utils\n",
    "\n",
    "import pandas as pd"
   ]
  },
  {
   "cell_type": "markdown",
   "id": "d8c5b640-143e-4e3f-b4c2-32b5cb079a97",
   "metadata": {},
   "source": [
    "### load data"
   ]
  },
  {
   "cell_type": "code",
   "execution_count": null,
   "id": "40c71daa-e716-4035-9811-34402a084aea",
   "metadata": {},
   "outputs": [],
   "source": [
    "X_train = EmojiClassificationDataset(\"train\")"
   ]
  },
  {
   "cell_type": "markdown",
   "id": "189c60da-8829-46c9-adbe-3a0a4344fd36",
   "metadata": {},
   "source": [
    "### load model"
   ]
  },
  {
   "cell_type": "code",
   "execution_count": null,
   "id": "bb1a201e-faed-4b92-91b1-38de7956b0ee",
   "metadata": {},
   "outputs": [],
   "source": [
    "model = Img2Vec(\"model/vision/res18_epoch10.ckpt\")"
   ]
  },
  {
   "cell_type": "code",
   "execution_count": null,
   "id": "4fb72e81",
   "metadata": {},
   "outputs": [],
   "source": [
    "utils.model_summary(model)"
   ]
  },
  {
   "cell_type": "markdown",
   "id": "2255c348-b9a0-44d1-8135-773bd5d4a48c",
   "metadata": {},
   "source": [
    "### similarity check"
   ]
  },
  {
   "cell_type": "code",
   "execution_count": null,
   "id": "c37aac77",
   "metadata": {},
   "outputs": [],
   "source": [
    "df = pd.read_csv(\"data/meta/img_meta_train.csv\")"
   ]
  },
  {
   "cell_type": "code",
   "execution_count": null,
   "id": "990190b9",
   "metadata": {},
   "outputs": [],
   "source": [
    "def sim(idx1, idx2):\n",
    "    sim = nn.CosineSimilarity()\n",
    "    v1 = model(X_train[idx1][0].unsqueeze(0))\n",
    "    v2 = model(X_train[idx2][0].unsqueeze(0))\n",
    "\n",
    "    return sim(v1, v2)"
   ]
  },
  {
   "cell_type": "code",
   "execution_count": null,
   "id": "8ae27925",
   "metadata": {},
   "outputs": [],
   "source": [
    "df.sample(10)"
   ]
  },
  {
   "cell_type": "code",
   "execution_count": null,
   "id": "e7b3602a",
   "metadata": {},
   "outputs": [],
   "source": [
    "sim(0, 3503)"
   ]
  },
  {
   "cell_type": "code",
   "execution_count": null,
   "id": "2c2e0f00",
   "metadata": {},
   "outputs": [],
   "source": [
    "model(X_train[0][0].unsqueeze(0))"
   ]
  },
  {
   "cell_type": "code",
   "execution_count": null,
   "id": "950a4a2b",
   "metadata": {},
   "outputs": [],
   "source": []
  }
 ],
 "metadata": {
  "kernelspec": {
   "display_name": "Python 3 (ipykernel)",
   "language": "python",
   "name": "python3"
  },
  "language_info": {
   "codemirror_mode": {
    "name": "ipython",
    "version": 3
   },
   "file_extension": ".py",
   "mimetype": "text/x-python",
   "name": "python",
   "nbconvert_exporter": "python",
   "pygments_lexer": "ipython3",
   "version": "3.8.12"
  }
 },
 "nbformat": 4,
 "nbformat_minor": 5
}
