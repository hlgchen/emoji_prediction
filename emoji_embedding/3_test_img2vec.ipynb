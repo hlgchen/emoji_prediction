{
 "cells": [
  {
   "cell_type": "code",
   "execution_count": null,
   "id": "e91f5db0-2b97-460b-ab09-2a94c1c7e3d4",
   "metadata": {},
   "outputs": [],
   "source": [
    "%load_ext lab_black"
   ]
  },
  {
   "cell_type": "code",
   "execution_count": null,
   "id": "8e20bbe2-338b-415d-ae84-e9db5ee267e5",
   "metadata": {},
   "outputs": [],
   "source": [
    "import torch\n",
    "import torch.nn as nn\n",
    "from cnn import Img2Vec\n",
    "\n",
    "from emoji_image_dataset import EmojiClassificationDataset\n",
    "\n",
    "import pandas as pd\n",
    "\n",
    "from embedding_analysis import EmbeddingAnalysis"
   ]
  },
  {
   "cell_type": "markdown",
   "id": "d8c5b640-143e-4e3f-b4c2-32b5cb079a97",
   "metadata": {},
   "source": [
    "### load data"
   ]
  },
  {
   "cell_type": "code",
   "execution_count": null,
   "id": "ddd726a2-b745-4d07-b32b-8c6055b9e584",
   "metadata": {},
   "outputs": [],
   "source": [
    "df = pd.read_csv(\"data/processed/emoji_descriptions.csv\")[\n",
    "    [\"emjpd_emoji_name\", \"emoji_char\"]\n",
    "].drop_duplicates()\n",
    "df.columns = [\"label\", \"emoji_char\"]"
   ]
  },
  {
   "cell_type": "code",
   "execution_count": null,
   "id": "40c71daa-e716-4035-9811-34402a084aea",
   "metadata": {},
   "outputs": [],
   "source": [
    "X_train = EmojiClassificationDataset(\"train\", label_flag=False)\n",
    "df_train = (\n",
    "    pd.read_csv(\"data/meta/img_meta_train.csv\")\n",
    "    .drop_duplicates(subset=\"label\")\n",
    "    .reset_index()\n",
    "    .rename(columns={\"index\": \"old_index\"})\n",
    ").merge(df, how=\"left\")"
   ]
  },
  {
   "cell_type": "code",
   "execution_count": null,
   "id": "5774e27f-5ea8-44e7-bd6c-4a20945ecb12",
   "metadata": {},
   "outputs": [],
   "source": [
    "X_zero = EmojiClassificationDataset(\"zeroshot\", label_flag=False)\n",
    "df_zero = (\n",
    "    pd.read_csv(\"data/meta/img_meta_zeroshot.csv\")\n",
    "    .drop_duplicates(subset=\"label\")\n",
    "    .reset_index()\n",
    "    .rename(columns={\"index\": \"old_index\"})\n",
    ").merge(df, how=\"left\")"
   ]
  },
  {
   "cell_type": "markdown",
   "id": "189c60da-8829-46c9-adbe-3a0a4344fd36",
   "metadata": {},
   "source": [
    "### load model"
   ]
  },
  {
   "cell_type": "code",
   "execution_count": null,
   "id": "bb1a201e-faed-4b92-91b1-38de7956b0ee",
   "metadata": {},
   "outputs": [],
   "source": [
    "model = Img2Vec(200, \"model/emoji_image_embedding/emimem.ckpt\")\n",
    "model.eval()\n",
    "\n",
    "sim = nn.CosineSimilarity()"
   ]
  },
  {
   "cell_type": "markdown",
   "id": "254b6dde-0c47-4279-941e-04dc96e157ef",
   "metadata": {},
   "source": [
    "### create embeddings"
   ]
  },
  {
   "cell_type": "code",
   "execution_count": null,
   "id": "d6ee59c4-1ae3-45f7-9b20-150e6eff40d0",
   "metadata": {},
   "outputs": [],
   "source": [
    "def create_embeddings(X, df):\n",
    "    ls = []\n",
    "    batch_size = 64\n",
    "    for b in range(0, len(df), batch_size):\n",
    "        batch = []\n",
    "        for idx in df.old_index[b : b + batch_size]:\n",
    "            batch.append(X[idx].unsqueeze(0))\n",
    "        batch = torch.cat(batch, dim=0)\n",
    "        o = model(batch)\n",
    "        ls.append(o)\n",
    "\n",
    "    embeddings = torch.concat(ls, dim=0)\n",
    "    return embeddings"
   ]
  },
  {
   "cell_type": "code",
   "execution_count": null,
   "id": "f72feb75-faa2-416e-867b-baf2d5360812",
   "metadata": {},
   "outputs": [],
   "source": [
    "%%time\n",
    "embeddings_train = create_embeddings(X_train, df_train)\n",
    "index_label_train = df_train.label.to_dict()\n",
    "label_emoji = {k:v for k, v in zip(df_train.label, df_train.emoji_char)}\n",
    "ea_train = EmbeddingAnalysis(embeddings_train, index_label_train, label_emoji)"
   ]
  },
  {
   "cell_type": "code",
   "execution_count": null,
   "id": "2cf78a76-1606-4588-a3cb-2c6b8369cb42",
   "metadata": {},
   "outputs": [],
   "source": [
    "%%time \n",
    "embeddings_zero = create_embeddings(X_zero, df_zero)\n",
    "index_label_zero = df_zero.label.to_dict()\n",
    "label_emoji = {k:v for k, v in zip(df_zero.label, df_zero.emoji_char)}\n",
    "ea_zero = EmbeddingAnalysis(embeddings_zero, index_label_zero, label_emoji)"
   ]
  },
  {
   "cell_type": "code",
   "execution_count": null,
   "id": "f56dad65-207c-452d-8b12-17827ee524f0",
   "metadata": {},
   "outputs": [],
   "source": [
    "df_total = pd.concat([df_train, df_zero]).reset_index(drop=True)\n",
    "index_label_total = df_total.label.to_dict()\n",
    "label_emoji_total = {k: v for k, v in zip(df_total.label, df_total.emoji_char)}\n",
    "embeddings_total = torch.cat([embeddings_train, embeddings_zero], dim=0)\n",
    "ea_total = EmbeddingAnalysis(embeddings_total, index_label_total, label_emoji_total)"
   ]
  },
  {
   "cell_type": "code",
   "execution_count": null,
   "id": "1ff2c319-cc05-4bf8-85c4-8579b3430796",
   "metadata": {},
   "outputs": [],
   "source": [
    "df_total"
   ]
  },
  {
   "cell_type": "code",
   "execution_count": null,
   "id": "e829b864-6c31-4cb6-9b59-de5bedb0000f",
   "metadata": {},
   "outputs": [],
   "source": [
    "embeddings_total.shape"
   ]
  },
  {
   "cell_type": "markdown",
   "id": "2255c348-b9a0-44d1-8135-773bd5d4a48c",
   "metadata": {},
   "source": [
    "## similarity check"
   ]
  },
  {
   "cell_type": "markdown",
   "id": "9f3c89ee-37f8-4973-a0a2-ca1a0b961e87",
   "metadata": {},
   "source": [
    "### training data"
   ]
  },
  {
   "cell_type": "code",
   "execution_count": null,
   "id": "0bda1027-d349-44ab-9c82-d42ba6f6417b",
   "metadata": {},
   "outputs": [],
   "source": [
    "df_train.sample(10)"
   ]
  },
  {
   "cell_type": "code",
   "execution_count": null,
   "id": "40139fb1-f97f-4fcd-8724-bf473c470e0f",
   "metadata": {},
   "outputs": [],
   "source": [
    "ea_train.most_similar(\"pensive_face\")"
   ]
  },
  {
   "cell_type": "code",
   "execution_count": null,
   "id": "62aac5a8-8506-479e-b133-8ad6f0ed7e98",
   "metadata": {},
   "outputs": [],
   "source": [
    "ea_train.most_similar(\"smiling_face_with_smiling_eyes\")"
   ]
  },
  {
   "cell_type": "code",
   "execution_count": null,
   "id": "00a5a0b6-d169-4afa-970d-a5d70adc83d7",
   "metadata": {},
   "outputs": [],
   "source": [
    "ea_train.most_similar(\"face_vomiting\")"
   ]
  },
  {
   "cell_type": "code",
   "execution_count": null,
   "id": "711b660f-6a88-4926-ab70-89d6f07ee57e",
   "metadata": {},
   "outputs": [],
   "source": [
    "ea_train.most_similar(\"see-no-evil_monkey\")"
   ]
  },
  {
   "cell_type": "code",
   "execution_count": null,
   "id": "d823e09f-0297-4298-87e0-c7caab099cd0",
   "metadata": {},
   "outputs": [],
   "source": [
    "ea_train.most_similar(\"flag-_lebanon\")"
   ]
  },
  {
   "cell_type": "code",
   "execution_count": null,
   "id": "5144aa93-c728-4765-ab8c-4bf4386c751d",
   "metadata": {},
   "outputs": [],
   "source": [
    "ea_train.most_similar(\"eggplant\")"
   ]
  },
  {
   "cell_type": "markdown",
   "id": "88c357bb-a652-4595-aac8-28bd3b2d2a78",
   "metadata": {},
   "source": [
    "### zero shot"
   ]
  },
  {
   "cell_type": "code",
   "execution_count": null,
   "id": "56f092e5-2182-4d5c-907a-894fa765a76b",
   "metadata": {},
   "outputs": [],
   "source": [
    "df_total.loc[df_total[\"class\"].isna()].sample(10)"
   ]
  },
  {
   "cell_type": "code",
   "execution_count": null,
   "id": "4951322b-3b2f-4613-92ce-bc9db208995b",
   "metadata": {},
   "outputs": [],
   "source": [
    "ea_total.most_similar(\"sparkling_heart\")"
   ]
  },
  {
   "cell_type": "code",
   "execution_count": null,
   "id": "21d7c25d-02ab-4cef-9b26-5375f91bfc9c",
   "metadata": {},
   "outputs": [],
   "source": [
    "ea_total.most_similar(\"weary_face\")"
   ]
  },
  {
   "cell_type": "code",
   "execution_count": null,
   "id": "9c4dab65-e19e-43b3-95be-e1c925aa6833",
   "metadata": {},
   "outputs": [],
   "source": [
    "ea_total.most_similar(\"last_quarter_moon\")"
   ]
  },
  {
   "cell_type": "code",
   "execution_count": null,
   "id": "fc7fcfaf-308d-410b-b53e-7e7e29a8961e",
   "metadata": {},
   "outputs": [],
   "source": [
    "ea_total.most_similar(\"flag-_bouvet_island\")"
   ]
  },
  {
   "cell_type": "code",
   "execution_count": null,
   "id": "5bf56124-2bcf-4b7d-a649-d9cdc9765a14",
   "metadata": {},
   "outputs": [],
   "source": [
    "ea_total.most_similar(\"face_with_open_mouth\")"
   ]
  },
  {
   "cell_type": "code",
   "execution_count": null,
   "id": "4772f02f-b92e-49ff-a2ed-3a4655076a69",
   "metadata": {},
   "outputs": [],
   "source": [
    "ea_total.most_similar(\"enraged_face\")"
   ]
  },
  {
   "cell_type": "code",
   "execution_count": null,
   "id": "77415289-dc2d-4437-a813-5f3732ac8816",
   "metadata": {},
   "outputs": [],
   "source": [
    "ea_total.most_similar(\"flag-_china\")"
   ]
  },
  {
   "cell_type": "code",
   "execution_count": null,
   "id": "29869440-86d3-4097-8e64-9401dc007923",
   "metadata": {},
   "outputs": [],
   "source": [
    "ea_total.most_similar(\"minibus\")"
   ]
  },
  {
   "cell_type": "code",
   "execution_count": null,
   "id": "d09328c3-803f-465b-9919-215c5b9d3f55",
   "metadata": {},
   "outputs": [],
   "source": [
    "ea_total.most_similar(\"1st_place_medal\")"
   ]
  },
  {
   "cell_type": "code",
   "execution_count": null,
   "id": "4ace355e-0972-4634-9d29-de110514921b",
   "metadata": {},
   "outputs": [],
   "source": [
    "ea_total.most_similar(\"waffle\")"
   ]
  },
  {
   "cell_type": "code",
   "execution_count": null,
   "id": "7cb066a0-f16d-4f5e-8482-6b94a77859e2",
   "metadata": {},
   "outputs": [],
   "source": [
    "ea_total.most_similar(\"chart_increasing\")"
   ]
  },
  {
   "cell_type": "code",
   "execution_count": null,
   "id": "79320f4e-c3e3-4c07-96b5-1a0ac768b265",
   "metadata": {},
   "outputs": [],
   "source": [
    "ea_total.most_similar(\"sauropod\")"
   ]
  },
  {
   "cell_type": "code",
   "execution_count": null,
   "id": "63ac807c-da2c-4373-9e12-65efb6ff9198",
   "metadata": {},
   "outputs": [],
   "source": [
    "ea_total.most_similar(\"flexed_biceps\")"
   ]
  },
  {
   "cell_type": "code",
   "execution_count": null,
   "id": "62a6b0c7-d96b-4704-afbb-c82ccf5a62b8",
   "metadata": {},
   "outputs": [],
   "source": [
    "ea_total.most_similar(\"bacon\")"
   ]
  },
  {
   "cell_type": "code",
   "execution_count": null,
   "id": "ef0345d0-e97b-4186-9e8a-f0fdca362c9b",
   "metadata": {},
   "outputs": [],
   "source": []
  }
 ],
 "metadata": {
  "kernelspec": {
   "display_name": "Python 3 (ipykernel)",
   "language": "python",
   "name": "python3"
  },
  "language_info": {
   "codemirror_mode": {
    "name": "ipython",
    "version": 3
   },
   "file_extension": ".py",
   "mimetype": "text/x-python",
   "name": "python",
   "nbconvert_exporter": "python",
   "pygments_lexer": "ipython3",
   "version": "3.8.12"
  }
 },
 "nbformat": 4,
 "nbformat_minor": 5
}
