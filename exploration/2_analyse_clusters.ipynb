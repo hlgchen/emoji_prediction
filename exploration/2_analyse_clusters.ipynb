{
 "cells": [
  {
   "cell_type": "code",
   "execution_count": null,
   "id": "804f31a2-068e-4312-9d36-ee2855b462f9",
   "metadata": {},
   "outputs": [],
   "source": [
    "import pandas as pd\n",
    "import numpy as np"
   ]
  },
  {
   "cell_type": "code",
   "execution_count": null,
   "id": "fb0a4ae2-9894-4c12-92f4-7dba287111d9",
   "metadata": {},
   "outputs": [],
   "source": [
    "df = pd.read_csv(\"embedding_with_clusters.csv\")"
   ]
  },
  {
   "cell_type": "code",
   "execution_count": null,
   "id": "e21761ac-67d2-4421-bed9-99e07bcb9be6",
   "metadata": {},
   "outputs": [],
   "source": [
    "gdf = df.groupby(by=\"cluster\").emoji_char.apply(list)"
   ]
  },
  {
   "cell_type": "code",
   "execution_count": null,
   "id": "f2eaea72-fc7c-4652-8505-cb0cdfa63466",
   "metadata": {},
   "outputs": [],
   "source": [
    "for k in gdf: \n",
    "    print(k, \"\\n\\n\")"
   ]
  },
  {
   "cell_type": "code",
   "execution_count": null,
   "id": "85813c50-f8e9-459f-951d-26c0299c9611",
   "metadata": {},
   "outputs": [],
   "source": []
  }
 ],
 "metadata": {
  "kernelspec": {
   "display_name": "Python 3 (ipykernel)",
   "language": "python",
   "name": "python3"
  },
  "language_info": {
   "codemirror_mode": {
    "name": "ipython",
    "version": 3
   },
   "file_extension": ".py",
   "mimetype": "text/x-python",
   "name": "python",
   "nbconvert_exporter": "python",
   "pygments_lexer": "ipython3",
   "version": "3.8.12"
  }
 },
 "nbformat": 4,
 "nbformat_minor": 5
}
