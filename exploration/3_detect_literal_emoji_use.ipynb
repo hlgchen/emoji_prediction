{
 "cells": [
  {
   "cell_type": "markdown",
   "id": "109c4744",
   "metadata": {},
   "source": [
    "This notebook provides the exploratori code to find whether there are any words in a text that can directly be represented with emojis. If such an emoji was used, one could filter this emoji. This type of label splitting would give us one dataset where the use of emojis would be more subtle and one dataset where emojis would just be used in a literal way."
   ]
  },
  {
   "cell_type": "code",
   "execution_count": null,
   "id": "3042e798-fd77-4124-8ff6-9afab770b4a2",
   "metadata": {},
   "outputs": [],
   "source": [
    "%load_ext lab_black"
   ]
  },
  {
   "cell_type": "code",
   "execution_count": null,
   "id": "8a3e4969-e832-45fb-b381-2e06c5056982",
   "metadata": {},
   "outputs": [],
   "source": [
    "import torch\n",
    "import re\n",
    "import pandas as pd\n",
    "import torch.nn.functional as F\n",
    "\n",
    "from sentence_transformers import SentenceTransformer"
   ]
  },
  {
   "cell_type": "code",
   "execution_count": null,
   "id": "2b42ca03-f4ec-4f58-b219-95b43ae1ddf4",
   "metadata": {},
   "outputs": [],
   "source": [
    "%%time\n",
    "# model_name = \"all-MiniLM-L6-v2\"\n",
    "model_name = \"sentence-transformers/paraphrase-MiniLM-L3-v2\"\n",
    "# model_name = \"average_word_embeddings_glove.6B.300d\"\n",
    "model = SentenceTransformer(model_name)"
   ]
  },
  {
   "cell_type": "markdown",
   "id": "aa6ab7d3-0c53-483d-b2ed-f5576cbe4310",
   "metadata": {},
   "source": [
    "### emoji names"
   ]
  },
  {
   "cell_type": "code",
   "execution_count": null,
   "id": "58c37735-4456-4f15-8f51-474c01f6d7f7",
   "metadata": {},
   "outputs": [],
   "source": [
    "emoji_names = pd.read_csv(\n",
    "    \"../emoji_embedding/data/processed/emoji_descriptions.csv\",\n",
    "    usecols=[\"emoji_id\", \"emjpd_emoji_name_og\"],\n",
    ")"
   ]
  },
  {
   "cell_type": "code",
   "execution_count": null,
   "id": "1a20e5d0-5e5a-4d59-8ac4-a859aa42b313",
   "metadata": {},
   "outputs": [],
   "source": [
    "emoji_tensors = model.encode(\n",
    "    emoji_names.emjpd_emoji_name_og.tolist(),\n",
    "    show_progress_bar=True,\n",
    "    normalize_embeddings=True,\n",
    "    convert_to_tensor=True,\n",
    ")"
   ]
  },
  {
   "cell_type": "markdown",
   "id": "80748d63-e0ec-4ac2-ab99-b1e48082f78f",
   "metadata": {},
   "source": [
    "### get twitter data"
   ]
  },
  {
   "cell_type": "code",
   "execution_count": null,
   "id": "004083bc-8cd9-4e8e-b8ea-5478bcf6b2bf",
   "metadata": {},
   "outputs": [],
   "source": [
    "data = pd.read_csv(\n",
    "    \"../twemoji/data/twemoji_valid_v2.csv\",\n",
    "    usecols=[\"text_no_emojis\", \"emoji_ids\", \"raw_text\"],\n",
    "    nrows=1000,\n",
    ")\n",
    "data.emoji_ids = data.emoji_ids.str[1:-1].apply(\n",
    "    lambda x: [int(y) for y in x.split(\",\")]\n",
    ")"
   ]
  },
  {
   "cell_type": "markdown",
   "id": "617640df",
   "metadata": {},
   "source": [
    "### do processing"
   ]
  },
  {
   "cell_type": "code",
   "execution_count": null,
   "id": "bcee978e-f225-4635-aa26-8b89fac6f930",
   "metadata": {},
   "outputs": [],
   "source": [
    "def literal_emoji_wrapper(threshold):\n",
    "    def literal_emoji(row):\n",
    "        twitter_word_tensors = model.encode(\n",
    "            row.text_no_emojis.split(\" \"),\n",
    "            normalize_embeddings=True,\n",
    "            convert_to_tensor=True,\n",
    "        )\n",
    "        em_tensors = emoji_tensors[row.emoji_ids]\n",
    "        m_v, _ = (twitter_word_tensors @ em_tensors.transpose(1, 0)).max(dim=0)\n",
    "        idx = (m_v > threshold).nonzero().flatten().tolist()\n",
    "        return [row.emoji_ids[i] for i in idx]\n",
    "\n",
    "    return literal_emoji"
   ]
  },
  {
   "cell_type": "code",
   "execution_count": null,
   "id": "f831b5e7-994d-4fac-92d8-db4652c56dd5",
   "metadata": {},
   "outputs": [],
   "source": [
    "%%time\n",
    "literal_emoji = literal_emoji_wrapper(0.7)\n",
    "data[\"literal_emoji\"] = data.apply(literal_emoji, axis = 1)"
   ]
  },
  {
   "cell_type": "code",
   "execution_count": null,
   "id": "8732076b-963b-4270-be9b-c08a63b27ba9",
   "metadata": {},
   "outputs": [],
   "source": [
    "data"
   ]
  },
  {
   "cell_type": "code",
   "execution_count": null,
   "id": "eaccc6ad-feab-4bed-a2bd-d87e83535dde",
   "metadata": {},
   "outputs": [],
   "source": [
    "data.loc[data.literal_emoji.apply(len) > 0].shape"
   ]
  },
  {
   "cell_type": "code",
   "execution_count": null,
   "id": "663bd22f-87e5-480f-a477-431c4362b0be",
   "metadata": {},
   "outputs": [],
   "source": [
    "# texts with obviously literal use of emojis\n",
    "for k in data.loc[data.literal_emoji.apply(len) > 0].raw_text:\n",
    "    print(k)\n",
    "    print()"
   ]
  },
  {
   "cell_type": "code",
   "execution_count": null,
   "id": "08fa7d99-fe1e-4054-99a6-f34339ed8669",
   "metadata": {},
   "outputs": [],
   "source": [
    "# sample texts with subtle use of emojis\n",
    "for k in data.loc[data.literal_emoji.apply(len) == 0].raw_text.sample(20):\n",
    "    print(k)\n",
    "    print()"
   ]
  },
  {
   "cell_type": "code",
   "execution_count": null,
   "id": "5c3c475b-2b47-4c7e-a608-f436063d3e3a",
   "metadata": {},
   "outputs": [],
   "source": []
  }
 ],
 "metadata": {
  "kernelspec": {
   "display_name": "Python 3 (ipykernel)",
   "language": "python",
   "name": "python3"
  },
  "language_info": {
   "codemirror_mode": {
    "name": "ipython",
    "version": 3
   },
   "file_extension": ".py",
   "mimetype": "text/x-python",
   "name": "python",
   "nbconvert_exporter": "python",
   "pygments_lexer": "ipython3",
   "version": "3.8.12"
  }
 },
 "nbformat": 4,
 "nbformat_minor": 5
}
