{
 "cells": [
  {
   "cell_type": "code",
   "execution_count": null,
   "id": "b91ae7a1-9d8f-4db1-819f-a8bc0adb4072",
   "metadata": {},
   "outputs": [],
   "source": [
    "%load_ext lab_black"
   ]
  },
  {
   "cell_type": "code",
   "execution_count": null,
   "id": "73eea608-5148-4b3b-a6ea-8e14ad55a84b",
   "metadata": {},
   "outputs": [],
   "source": [
    "import pandas as pd\n",
    "from matplotlib import pyplot as plt\n",
    "\n",
    "pd.set_option(\"display.max_rows\", 500)"
   ]
  },
  {
   "cell_type": "code",
   "execution_count": null,
   "id": "c72d256a-b253-4921-8f7c-c0cfa5ca5101",
   "metadata": {},
   "outputs": [],
   "source": [
    "df_train = pd.read_csv(\n",
    "    \"../twemoji/unfiltered_processed/twemoji_train.csv\",\n",
    "    usecols=[\"text_no_emojis\", \"emojis\", \"emoji_ids\"],\n",
    ")"
   ]
  },
  {
   "cell_type": "markdown",
   "id": "8970d0a0-b8a7-4e09-8917-354a92185a07",
   "metadata": {},
   "source": [
    "### general statistics"
   ]
  },
  {
   "cell_type": "code",
   "execution_count": null,
   "id": "72a60be0-b127-4cc5-ae0e-e28df22c0056",
   "metadata": {},
   "outputs": [],
   "source": [
    "df_train.isna().sum()"
   ]
  },
  {
   "cell_type": "code",
   "execution_count": null,
   "id": "091f296f-a2bd-4af6-b2fb-c4293c42f224",
   "metadata": {},
   "outputs": [],
   "source": [
    "df_train.loc[\n",
    "    df_train.emojis.isna()\n",
    "].head()  # currently flags are not extracted as expected"
   ]
  },
  {
   "cell_type": "code",
   "execution_count": null,
   "id": "01024094-ec90-49ec-a67f-555f7fe22221",
   "metadata": {},
   "outputs": [],
   "source": [
    "df_train = df_train.dropna()"
   ]
  },
  {
   "cell_type": "markdown",
   "id": "f98a0b5a-612c-4645-a45e-1ae3dc06f3a8",
   "metadata": {},
   "source": [
    "### number of emojis and length of sentences"
   ]
  },
  {
   "cell_type": "code",
   "execution_count": null,
   "id": "17dc7732-3350-4c94-95e5-ba5149f6f85d",
   "metadata": {},
   "outputs": [],
   "source": [
    "df_train[\"len_sentence\"] = df_train.text_no_emojis.apply(len)\n",
    "df_train[\"num_emojis\"] = df_train.emojis.apply(len)"
   ]
  },
  {
   "cell_type": "markdown",
   "id": "a7d2b8a8-fa88-48b1-ad14-3023b34c2909",
   "metadata": {},
   "source": [
    "99 % of tweets have less or equalt to 5 emojis"
   ]
  },
  {
   "cell_type": "code",
   "execution_count": null,
   "id": "2efbee31-c204-44e1-90ab-87c9f66807fb",
   "metadata": {},
   "outputs": [],
   "source": [
    "num_emojis = pd.concat(\n",
    "    [\n",
    "        df_train.num_emojis.value_counts().rename(\"num_occurence\"),\n",
    "        (df_train.num_emojis.value_counts() / len(df_train))\n",
    "        .round(6)\n",
    "        .rename(\"rel_perc\"),\n",
    "    ],\n",
    "    axis=1,\n",
    ")\n",
    "num_emojis[\"cumsum\"] = num_emojis.rel_perc.cumsum()\n",
    "num_emojis"
   ]
  },
  {
   "cell_type": "code",
   "execution_count": null,
   "id": "55cf897a-7c8a-4f2b-b824-2f6d1d594885",
   "metadata": {},
   "outputs": [],
   "source": [
    "print(df_train.len_sentence.mean())\n",
    "print(df_train.len_sentence.std())"
   ]
  },
  {
   "cell_type": "markdown",
   "id": "25a6f545-f196-487e-a8fb-eef1ec15e7f4",
   "metadata": {},
   "source": [
    "### emoji types"
   ]
  },
  {
   "cell_type": "code",
   "execution_count": null,
   "id": "24763b72-d24e-4b67-81ff-5554acee6d46",
   "metadata": {},
   "outputs": [],
   "source": [
    "all_emojis = df_train.emojis.apply(lambda x: list(x)).explode()\n",
    "all_emoji_counts = all_emojis.value_counts()\n",
    "distinct_emojis = all_emojis.drop_duplicates()\n",
    "num_distinct_emojis = len(distinct_emojis)"
   ]
  },
  {
   "cell_type": "code",
   "execution_count": null,
   "id": "fbef711f-3e7a-49fa-80aa-c48ec34aed05",
   "metadata": {},
   "outputs": [],
   "source": [
    "emoji_occ = pd.concat(\n",
    "    [\n",
    "        all_emoji_counts.rename(\"absolute_count\"),\n",
    "        (all_emoji_counts / len(all_emojis)).rename(\"relative_count\"),\n",
    "    ],\n",
    "    axis=1,\n",
    ")\n",
    "emoji_occ[\"cumsum\"] = emoji_occ.relative_count.cumsum()\n",
    "emoji_occ[\"emoji_char\"] = emoji_occ.index\n",
    "emoji_occ[:20]"
   ]
  },
  {
   "cell_type": "code",
   "execution_count": null,
   "id": "d83757fc-f247-4a29-928b-36bd4fe5d746",
   "metadata": {},
   "outputs": [],
   "source": [
    "plt.plot(range(len(emoji_occ)), emoji_occ[\"cumsum\"])"
   ]
  }
 ],
 "metadata": {
  "kernelspec": {
   "display_name": "Python 3 (ipykernel)",
   "language": "python",
   "name": "python3"
  },
  "language_info": {
   "codemirror_mode": {
    "name": "ipython",
    "version": 3
   },
   "file_extension": ".py",
   "mimetype": "text/x-python",
   "name": "python",
   "nbconvert_exporter": "python",
   "pygments_lexer": "ipython3",
   "version": "3.8.12"
  }
 },
 "nbformat": 4,
 "nbformat_minor": 5
}
