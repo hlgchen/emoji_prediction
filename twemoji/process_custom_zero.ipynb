{
 "cells": [
  {
   "cell_type": "markdown",
   "id": "fee601eb",
   "metadata": {},
   "source": [
    "### process data"
   ]
  },
  {
   "cell_type": "code",
   "execution_count": null,
   "id": "46dce1a4-d4d5-44e3-9f4a-3cbd9b68183a",
   "metadata": {},
   "outputs": [],
   "source": [
    "import pandas as pd\n",
    "from preprocess import preprocess"
   ]
  },
  {
   "cell_type": "code",
   "execution_count": null,
   "id": "4313f32b-ba0f-4dcb-a08c-42efa9cd409d",
   "metadata": {},
   "outputs": [],
   "source": [
    "df = pd.read_csv(\"custom_scrape/twitter_scrape.csv\")\n",
    "data = (df.id.astype(str) + \" \" + df.text).tolist()"
   ]
  },
  {
   "cell_type": "code",
   "execution_count": null,
   "id": "4a445afe-10bb-4d41-ac8d-04f8213d1b83",
   "metadata": {},
   "outputs": [],
   "source": [
    "processed = preprocess(data)\n",
    "processed = processed.dropna()"
   ]
  },
  {
   "cell_type": "code",
   "execution_count": null,
   "id": "b3fcbe07-3dec-487a-b0a5-b00343c4cb2b",
   "metadata": {},
   "outputs": [],
   "source": [
    "processed.to_csv(\"data/twemoji_custom_zero.csv\", index = False)"
   ]
  },
  {
   "cell_type": "markdown",
   "id": "e55b1481",
   "metadata": {},
   "source": [
    "### quick analyses"
   ]
  },
  {
   "cell_type": "code",
   "execution_count": null,
   "id": "5ffd8df5-35a1-467b-9c4b-41012cb825e3",
   "metadata": {},
   "outputs": [],
   "source": [
    "processed.loc[processed.emoji_ids.apply(len) == 1].raw_text.sample().iloc[0]"
   ]
  },
  {
   "cell_type": "code",
   "execution_count": null,
   "id": "a908f2ac-9e7c-4654-a254-8657199f3c22",
   "metadata": {},
   "outputs": [],
   "source": [
    "processed.loc[processed.emoji_ids.apply(len) == 1]"
   ]
  },
  {
   "cell_type": "code",
   "execution_count": null,
   "id": "8a397244-0abb-4e49-9a59-a05c000f3265",
   "metadata": {},
   "outputs": [],
   "source": [
    "processed.loc[processed.emoji_ids.apply(len) == 1].emoji_ids.value_counts()[:30]"
   ]
  },
  {
   "cell_type": "markdown",
   "id": "0c3f9e65",
   "metadata": {},
   "source": [
    "### crosscheck with emojipedia description"
   ]
  },
  {
   "cell_type": "code",
   "execution_count": null,
   "id": "2ec3ab35-0ca6-4973-8d10-29e69d62ca3c",
   "metadata": {},
   "outputs": [],
   "source": [
    "df_des = pd.read_csv(\"../emoji_embedding/data/processed/emoji_descriptions.csv\")"
   ]
  },
  {
   "cell_type": "code",
   "execution_count": null,
   "id": "123a10b3-4ec2-474e-b7e1-e0667d608f9e",
   "metadata": {},
   "outputs": [],
   "source": [
    "df_des.iloc[260].emjpd_full_description"
   ]
  },
  {
   "cell_type": "code",
   "execution_count": null,
   "id": "c4f681e7-6807-4bd9-9b6b-f8468195522f",
   "metadata": {},
   "outputs": [],
   "source": [
    "df_des.iloc[260]"
   ]
  },
  {
   "cell_type": "code",
   "execution_count": null,
   "id": "cb7acdc6-a661-4704-9e55-7cd270287883",
   "metadata": {},
   "outputs": [],
   "source": []
  }
 ],
 "metadata": {
  "kernelspec": {
   "display_name": "Python 3 (ipykernel)",
   "language": "python",
   "name": "python3"
  },
  "language_info": {
   "codemirror_mode": {
    "name": "ipython",
    "version": 3
   },
   "file_extension": ".py",
   "mimetype": "text/x-python",
   "name": "python",
   "nbconvert_exporter": "python",
   "pygments_lexer": "ipython3",
   "version": "3.8.12"
  }
 },
 "nbformat": 4,
 "nbformat_minor": 5
}
