{
 "cells": [
  {
   "cell_type": "code",
   "execution_count": null,
   "id": "5f3b76b0-b95e-464e-aace-e1c319f8575c",
   "metadata": {},
   "outputs": [],
   "source": [
    "import pandas as pd"
   ]
  },
  {
   "cell_type": "markdown",
   "id": "135d0c54-140a-4fd0-94c2-df0f51d5f7d2",
   "metadata": {},
   "source": [
    "### create balanced testset"
   ]
  },
  {
   "cell_type": "code",
   "execution_count": null,
   "id": "81a9e3c9-a3da-4d7b-b22f-4209c88f8e7b",
   "metadata": {},
   "outputs": [],
   "source": [
    "df = pd.read_csv(\"data/twemoji_test_v2.csv\")\n",
    "balanced = pd.read_csv(\"raw_data/balanced_test_plaintext.txt\", sep=\"\\t\")\n",
    "balanced_df = balanced[[\"id\"]].merge(df, how = \"left\")"
   ]
  },
  {
   "cell_type": "code",
   "execution_count": null,
   "id": "5caf2f8b-4e4e-4d9a-8af7-b7888132b568",
   "metadata": {},
   "outputs": [],
   "source": [
    "balanced_df.isna().sum()"
   ]
  },
  {
   "cell_type": "code",
   "execution_count": null,
   "id": "4e6735bf-96ce-4882-b5f4-2f5bdad2fec6",
   "metadata": {},
   "outputs": [],
   "source": [
    "test_raw = pd.read_csv(\"raw_data/raw_test.txt\", sep=\"\\t\", header=None)\n",
    "\n",
    "ids = test_raw[0].apply(lambda x: x.split(\" \")[0])\n",
    "tweet = test_raw[0].apply(lambda x: \" \".join(x.split(\" \")[1:]))\n",
    "test_raw_df = pd.DataFrame({\"id\": ids, \"tweet\": tweet})\n",
    "\n",
    "balanced_raw_df = balanced[[\"id\"]].merge(test_raw_df, how = \"left\")\n",
    "balanced_raw_df.index = balanced_raw_df.id"
   ]
  },
  {
   "cell_type": "code",
   "execution_count": null,
   "id": "2a66e4ca-7add-4d49-8855-12aaa4984a88",
   "metadata": {},
   "outputs": [],
   "source": [
    "balanced_raw_df.loc[balanced_df.loc[balanced_df.emojis.isna()].id]"
   ]
  },
  {
   "cell_type": "code",
   "execution_count": null,
   "id": "bdf65700-7498-4481-a8e1-0b45b8105010",
   "metadata": {},
   "outputs": [],
   "source": [
    "balanced_df = balanced_df.dropna(subset=\"emoji_ids\")"
   ]
  },
  {
   "cell_type": "code",
   "execution_count": null,
   "id": "97df550d-be83-409c-b922-b0c7b6218827",
   "metadata": {},
   "outputs": [],
   "source": [
    "balanced_df.to_csv(\"data/twemoji_balanced_test_v2.csv\", index=False)"
   ]
  },
  {
   "cell_type": "markdown",
   "id": "6d74adec-b80e-479b-98d9-d2490fd9ca3e",
   "metadata": {},
   "source": [
    "### create balanced validationset "
   ]
  },
  {
   "cell_type": "code",
   "execution_count": null,
   "id": "aa8890e9-5c86-496b-b995-75c0eef98adb",
   "metadata": {},
   "outputs": [],
   "source": [
    "def create_balanced_dataset(df): \n",
    "    df[\"emoji_ids\"] = df.emoji_ids.str[1:-1].apply(lambda x: [int(y) for y in x.split(\",\")])\n",
    "    emoji_ids_set = df.emoji_ids.apply(set)  \n",
    "    unique_emojis = df.emoji_ids.explode().value_counts()\n",
    "    \n",
    "    data = []\n",
    "    for i, v in zip(unique_emojis.index, unique_emojis): \n",
    "        if v >= 10: \n",
    "            samples = df.loc[emoji_ids_set.apply(lambda x: i in x)].sample(10, replace=False)\n",
    "        else: \n",
    "            samples = df.loc[emoji_ids_set.apply(lambda x: i in x)].sample(10, replace=True)\n",
    "\n",
    "        data.append(samples)\n",
    "        \n",
    "    balanced = pd.concat(data).reset_index()\n",
    "    return balanced"
   ]
  },
  {
   "cell_type": "code",
   "execution_count": null,
   "id": "9f6f5e10-4d53-4d14-a928-215f4305b1ff",
   "metadata": {},
   "outputs": [],
   "source": [
    "%%time\n",
    "# takes around 1:20 min\n",
    "df_valid = pd.read_csv(\"data/twemoji_valid_v2.csv\")\n",
    "balanced_valid = create_balanced_dataset(df_valid)"
   ]
  },
  {
   "cell_type": "code",
   "execution_count": null,
   "id": "7670cd6f-cbb8-45dd-b197-5f495181240f",
   "metadata": {},
   "outputs": [],
   "source": [
    "%%time\n",
    "# takes around 18min\n",
    "df_train = pd.read_csv(\"data/twemoji_train_v2.csv\")\n",
    "balanced_train = create_balanced_dataset(df_train)"
   ]
  },
  {
   "cell_type": "code",
   "execution_count": null,
   "id": "ae1c4bb5-8f8d-4eb0-a44f-5051230a5793",
   "metadata": {},
   "outputs": [],
   "source": [
    "balanced_valid.to_csv(\"data/twemoji_balanced_valid_v2.csv\", index=False)\n",
    "balanced_train.to_csv(\"data/twemoji_balanced_train_v2.csv\", index=False)"
   ]
  },
  {
   "cell_type": "markdown",
   "id": "9e93e0d6-925d-4151-8a01-529bd5b3b58f",
   "metadata": {},
   "source": [
    "### get prevalence data"
   ]
  },
  {
   "cell_type": "code",
   "execution_count": null,
   "id": "332075e7-2b48-4669-93f5-ec56c94b4b94",
   "metadata": {},
   "outputs": [],
   "source": [
    "prevalence = (df_train.emoji_ids.explode().value_counts()/len(df_train)).to_frame().reset_index()\n",
    "prevalence.columns = [\"emoji_ids\", \"prevalence\"]"
   ]
  },
  {
   "cell_type": "code",
   "execution_count": null,
   "id": "45288f76-46e7-4579-bc9a-558c5e2afc51",
   "metadata": {},
   "outputs": [],
   "source": [
    "prevalence.to_csv(\"data/twemoji_prevalence.csv\", index=False)"
   ]
  },
  {
   "cell_type": "code",
   "execution_count": null,
   "id": "e90cedcf-89a5-4bcd-b7c9-5d703e2b6d87",
   "metadata": {},
   "outputs": [],
   "source": []
  }
 ],
 "metadata": {
  "kernelspec": {
   "display_name": "Python 3 (ipykernel)",
   "language": "python",
   "name": "python3"
  },
  "language_info": {
   "codemirror_mode": {
    "name": "ipython",
    "version": 3
   },
   "file_extension": ".py",
   "mimetype": "text/x-python",
   "name": "python",
   "nbconvert_exporter": "python",
   "pygments_lexer": "ipython3",
   "version": "3.8.12"
  }
 },
 "nbformat": 4,
 "nbformat_minor": 5
}
